{
  "nbformat": 4,
  "nbformat_minor": 0,
  "metadata": {
    "colab": {
      "name": "VGG+Softmax",
      "provenance": [],
      "collapsed_sections": [],
      "machine_shape": "hm"
    },
    "kernelspec": {
      "name": "python3",
      "display_name": "Python 3"
    },
    "accelerator": "GPU"
  },
  "cells": [
    {
      "cell_type": "code",
      "metadata": {
        "id": "vS6nl1gPZUCr",
        "colab_type": "code",
        "outputId": "b19c96dc-4a3e-4204-9919-cd6d1d9658ea",
        "colab": {
          "base_uri": "https://localhost:8080/",
          "height": 122
        }
      },
      "source": [
        "from google.colab import drive\n",
        "drive.mount('/content/drive')"
      ],
      "execution_count": 0,
      "outputs": [
        {
          "output_type": "stream",
          "text": [
            "Go to this URL in a browser: https://accounts.google.com/o/oauth2/auth?client_id=947318989803-6bn6qk8qdgf4n4g3pfee6491hc0brc4i.apps.googleusercontent.com&redirect_uri=urn%3aietf%3awg%3aoauth%3a2.0%3aoob&response_type=code&scope=email%20https%3a%2f%2fwww.googleapis.com%2fauth%2fdocs.test%20https%3a%2f%2fwww.googleapis.com%2fauth%2fdrive%20https%3a%2f%2fwww.googleapis.com%2fauth%2fdrive.photos.readonly%20https%3a%2f%2fwww.googleapis.com%2fauth%2fpeopleapi.readonly\n",
            "\n",
            "Enter your authorization code:\n",
            "··········\n",
            "Mounted at /content/drive\n"
          ],
          "name": "stdout"
        }
      ]
    },
    {
      "cell_type": "code",
      "metadata": {
        "id": "JoJR2OtSZZtc",
        "colab_type": "code",
        "outputId": "6d180ca8-6439-4752-a963-cee829d33c5e",
        "colab": {
          "base_uri": "https://localhost:8080/",
          "height": 34
        }
      },
      "source": [
        "import torch\n",
        "import torchvision\n",
        "import torchvision.transforms as transforms\n",
        "\n",
        "import matplotlib.pyplot as plt\n",
        "import numpy as np\n",
        "from keras.preprocessing.image import ImageDataGenerator"
      ],
      "execution_count": 0,
      "outputs": [
        {
          "output_type": "stream",
          "text": [
            "Using TensorFlow backend.\n"
          ],
          "name": "stderr"
        }
      ]
    },
    {
      "cell_type": "code",
      "metadata": {
        "id": "SejZYM3IZuHS",
        "colab_type": "code",
        "colab": {}
      },
      "source": [
        "dir_path = '/content/drive/My Drive/CS 280/dataset-resized'\n",
        "\n",
        "classes = ('cardboard','glass', 'metal', 'paper', 'plastic', 'trash')\n",
        "num_classes = 6"
      ],
      "execution_count": 0,
      "outputs": []
    },
    {
      "cell_type": "code",
      "metadata": {
        "id": "U8as1haSZ8HI",
        "colab_type": "code",
        "outputId": "101e0880-0650-4f38-8108-550e98fd78e2",
        "colab": {
          "base_uri": "https://localhost:8080/",
          "height": 51
        }
      },
      "source": [
        "train_datagen=ImageDataGenerator(horizontal_flip=True,\n",
        "                         vertical_flip=True,\n",
        "                         validation_split=0.1,\n",
        "                         rescale=1./255,\n",
        "                         shear_range = 0.1,\n",
        "                         zoom_range = 0.1,\n",
        "                         width_shift_range = 0.1,\n",
        "                         height_shift_range = 0.1)\n",
        "val_datagen=ImageDataGenerator(rescale=1./255, validation_split=0.1)\n",
        "\n",
        "train_generator=train_datagen.flow_from_directory(dir_path,\n",
        "                                                  target_size=(224,224),\n",
        "                                                  batch_size=128,\n",
        "                                                  class_mode='categorical',\n",
        "                                                  subset='training',\n",
        "                                                  seed = 30)\n",
        "\n",
        "val_generator=val_datagen.flow_from_directory(dir_path,\n",
        "                                              target_size=(224,224),\n",
        "                                              batch_size=32,\n",
        "                                              class_mode='categorical',\n",
        "                                              subset='validation',\n",
        "                                              seed = 30)"
      ],
      "execution_count": 0,
      "outputs": [
        {
          "output_type": "stream",
          "text": [
            "Found 2293 images belonging to 6 classes.\n",
            "Found 252 images belonging to 6 classes.\n"
          ],
          "name": "stdout"
        }
      ]
    },
    {
      "cell_type": "code",
      "metadata": {
        "id": "JmsY19G7aGcK",
        "colab_type": "code",
        "outputId": "c2bbb661-6370-462d-8878-f704f0005fdf",
        "colab": {
          "base_uri": "https://localhost:8080/",
          "height": 799
        }
      },
      "source": [
        "import tensorflow.keras\n",
        "from tensorflow.keras.models import Sequential, Model\n",
        "from tensorflow.keras.layers import  Dropout, Input\n",
        "from tensorflow.keras.layers import Dense, Flatten\n",
        "from tensorflow.keras.optimizers import Adam\n",
        "from tensorflow.keras.metrics import categorical_crossentropy\n",
        "import itertools\n",
        "%matplotlib inline\n",
        "\n",
        "vgg16_model = tensorflow.keras.applications.vgg16.VGG16(weights='imagenet', include_top=False, input_tensor=Input(shape=(224,224,3)))\n",
        "for layer in vgg16_model.layers[:-4]:\n",
        "    layer.trainable = False\n",
        "\n",
        "\n",
        "vgg16_model.summary()"
      ],
      "execution_count": 0,
      "outputs": [
        {
          "output_type": "stream",
          "text": [
            "Model: \"vgg16\"\n",
            "_________________________________________________________________\n",
            "Layer (type)                 Output Shape              Param #   \n",
            "=================================================================\n",
            "input_4 (InputLayer)         [(None, 224, 224, 3)]     0         \n",
            "_________________________________________________________________\n",
            "block1_conv1 (Conv2D)        (None, 224, 224, 64)      1792      \n",
            "_________________________________________________________________\n",
            "block1_conv2 (Conv2D)        (None, 224, 224, 64)      36928     \n",
            "_________________________________________________________________\n",
            "block1_pool (MaxPooling2D)   (None, 112, 112, 64)      0         \n",
            "_________________________________________________________________\n",
            "block2_conv1 (Conv2D)        (None, 112, 112, 128)     73856     \n",
            "_________________________________________________________________\n",
            "block2_conv2 (Conv2D)        (None, 112, 112, 128)     147584    \n",
            "_________________________________________________________________\n",
            "block2_pool (MaxPooling2D)   (None, 56, 56, 128)       0         \n",
            "_________________________________________________________________\n",
            "block3_conv1 (Conv2D)        (None, 56, 56, 256)       295168    \n",
            "_________________________________________________________________\n",
            "block3_conv2 (Conv2D)        (None, 56, 56, 256)       590080    \n",
            "_________________________________________________________________\n",
            "block3_conv3 (Conv2D)        (None, 56, 56, 256)       590080    \n",
            "_________________________________________________________________\n",
            "block3_pool (MaxPooling2D)   (None, 28, 28, 256)       0         \n",
            "_________________________________________________________________\n",
            "block4_conv1 (Conv2D)        (None, 28, 28, 512)       1180160   \n",
            "_________________________________________________________________\n",
            "block4_conv2 (Conv2D)        (None, 28, 28, 512)       2359808   \n",
            "_________________________________________________________________\n",
            "block4_conv3 (Conv2D)        (None, 28, 28, 512)       2359808   \n",
            "_________________________________________________________________\n",
            "block4_pool (MaxPooling2D)   (None, 14, 14, 512)       0         \n",
            "_________________________________________________________________\n",
            "block5_conv1 (Conv2D)        (None, 14, 14, 512)       2359808   \n",
            "_________________________________________________________________\n",
            "block5_conv2 (Conv2D)        (None, 14, 14, 512)       2359808   \n",
            "_________________________________________________________________\n",
            "block5_conv3 (Conv2D)        (None, 14, 14, 512)       2359808   \n",
            "_________________________________________________________________\n",
            "block5_pool (MaxPooling2D)   (None, 7, 7, 512)         0         \n",
            "=================================================================\n",
            "Total params: 14,714,688\n",
            "Trainable params: 7,079,424\n",
            "Non-trainable params: 7,635,264\n",
            "_________________________________________________________________\n"
          ],
          "name": "stdout"
        }
      ]
    },
    {
      "cell_type": "code",
      "metadata": {
        "id": "0WEJj5-HiKCh",
        "colab_type": "code",
        "outputId": "84709a16-32f4-4177-bb9d-270883c65101",
        "colab": {
          "base_uri": "https://localhost:8080/",
          "height": 323
        }
      },
      "source": [
        "model = Sequential()\n",
        " \n",
        "# Add the vgg convolutional base model\n",
        "model.add(vgg16_model)\n",
        " \n",
        "# Add new layers\n",
        "model.add(Flatten())\n",
        "model.add(Dense(1024, activation='relu'))\n",
        "model.add(Dropout(0.5))\n",
        "model.add(Dense(6, activation='softmax'))\n",
        " \n",
        "# Show a summary of the model. Check the number of trainable parameters\n",
        "model.summary()\n",
        "  "
      ],
      "execution_count": 0,
      "outputs": [
        {
          "output_type": "stream",
          "text": [
            "Model: \"sequential_6\"\n",
            "_________________________________________________________________\n",
            "Layer (type)                 Output Shape              Param #   \n",
            "=================================================================\n",
            "vgg16 (Model)                (None, 7, 7, 512)         14714688  \n",
            "_________________________________________________________________\n",
            "flatten_6 (Flatten)          (None, 25088)             0         \n",
            "_________________________________________________________________\n",
            "dense_12 (Dense)             (None, 1024)              25691136  \n",
            "_________________________________________________________________\n",
            "dropout_6 (Dropout)          (None, 1024)              0         \n",
            "_________________________________________________________________\n",
            "dense_13 (Dense)             (None, 6)                 6150      \n",
            "=================================================================\n",
            "Total params: 40,411,974\n",
            "Trainable params: 32,776,710\n",
            "Non-trainable params: 7,635,264\n",
            "_________________________________________________________________\n"
          ],
          "name": "stdout"
        }
      ]
    },
    {
      "cell_type": "code",
      "metadata": {
        "id": "k4yHGewwezIZ",
        "colab_type": "code",
        "outputId": "076ff329-870f-4a06-a4af-c1e1d8ea515f",
        "colab": {
          "base_uri": "https://localhost:8080/",
          "height": 1000
        }
      },
      "source": [
        "from tensorflow.keras.callbacks import ModelCheckpoint\n",
        "\n",
        "filepath='/content/drive/My Drive/CS 280/vgg+softmax final.h5'\n",
        "checkpoint1 = ModelCheckpoint(filepath, monitor='val_acc', verbose=1, mode='max', save_best_only=True)\n",
        "callbacks_list = [checkpoint1]\n",
        "\n",
        "model.compile(loss='categorical_crossentropy',\n",
        "              optimizer=tensorflow.keras.optimizers.RMSprop(lr=1e-4),\n",
        "              metrics=['acc'])\n",
        "history = model.fit_generator(\n",
        "      train_generator,\n",
        "      steps_per_epoch=train_generator.samples/train_generator.batch_size ,\n",
        "      epochs=100,\n",
        "      validation_data=val_generator,\n",
        "      validation_steps=val_generator.samples/val_generator.batch_size,\n",
        "      verbose=1,\n",
        "      callbacks=callbacks_list)"
      ],
      "execution_count": 0,
      "outputs": [
        {
          "output_type": "stream",
          "text": [
            "Epoch 1/100\n",
            "18/17 [==============================] - ETA: 0s - loss: 2.0271 - acc: 0.3489\n",
            "Epoch 00001: val_acc improved from -inf to 0.48016, saving model to /content/drive/My Drive/CS 280/vgg+softmax final.h5\n",
            "18/17 [==============================] - 39s 2s/step - loss: 2.0271 - acc: 0.3489 - val_loss: 1.2135 - val_acc: 0.4802\n",
            "Epoch 2/100\n",
            "18/17 [==============================] - ETA: 0s - loss: 1.2268 - acc: 0.5290\n",
            "Epoch 00002: val_acc improved from 0.48016 to 0.60714, saving model to /content/drive/My Drive/CS 280/vgg+softmax final.h5\n",
            "18/17 [==============================] - 39s 2s/step - loss: 1.2268 - acc: 0.5290 - val_loss: 0.9264 - val_acc: 0.6071\n",
            "Epoch 3/100\n",
            "18/17 [==============================] - ETA: 0s - loss: 1.0383 - acc: 0.6079\n",
            "Epoch 00003: val_acc improved from 0.60714 to 0.64286, saving model to /content/drive/My Drive/CS 280/vgg+softmax final.h5\n",
            "18/17 [==============================] - 40s 2s/step - loss: 1.0383 - acc: 0.6079 - val_loss: 0.9102 - val_acc: 0.6429\n",
            "Epoch 4/100\n",
            "18/17 [==============================] - ETA: 0s - loss: 0.8720 - acc: 0.6790\n",
            "Epoch 00004: val_acc improved from 0.64286 to 0.68651, saving model to /content/drive/My Drive/CS 280/vgg+softmax final.h5\n",
            "18/17 [==============================] - 38s 2s/step - loss: 0.8720 - acc: 0.6790 - val_loss: 0.8548 - val_acc: 0.6865\n",
            "Epoch 5/100\n",
            "18/17 [==============================] - ETA: 0s - loss: 0.7479 - acc: 0.7279\n",
            "Epoch 00005: val_acc improved from 0.68651 to 0.73413, saving model to /content/drive/My Drive/CS 280/vgg+softmax final.h5\n",
            "18/17 [==============================] - 39s 2s/step - loss: 0.7479 - acc: 0.7279 - val_loss: 0.7428 - val_acc: 0.7341\n",
            "Epoch 6/100\n",
            "18/17 [==============================] - ETA: 0s - loss: 0.6694 - acc: 0.7676\n",
            "Epoch 00006: val_acc improved from 0.73413 to 0.80159, saving model to /content/drive/My Drive/CS 280/vgg+softmax final.h5\n",
            "18/17 [==============================] - 39s 2s/step - loss: 0.6694 - acc: 0.7676 - val_loss: 0.5718 - val_acc: 0.8016\n",
            "Epoch 7/100\n",
            "18/17 [==============================] - ETA: 0s - loss: 0.5899 - acc: 0.7863\n",
            "Epoch 00007: val_acc did not improve from 0.80159\n",
            "18/17 [==============================] - 38s 2s/step - loss: 0.5899 - acc: 0.7863 - val_loss: 0.6904 - val_acc: 0.7183\n",
            "Epoch 8/100\n",
            "18/17 [==============================] - ETA: 0s - loss: 0.5599 - acc: 0.7963\n",
            "Epoch 00008: val_acc did not improve from 0.80159\n",
            "18/17 [==============================] - 37s 2s/step - loss: 0.5599 - acc: 0.7963 - val_loss: 0.5616 - val_acc: 0.8016\n",
            "Epoch 9/100\n",
            "18/17 [==============================] - ETA: 0s - loss: 0.4697 - acc: 0.8360\n",
            "Epoch 00009: val_acc did not improve from 0.80159\n",
            "18/17 [==============================] - 37s 2s/step - loss: 0.4697 - acc: 0.8360 - val_loss: 1.1878 - val_acc: 0.6706\n",
            "Epoch 10/100\n",
            "18/17 [==============================] - ETA: 0s - loss: 0.4567 - acc: 0.8365\n",
            "Epoch 00010: val_acc improved from 0.80159 to 0.80952, saving model to /content/drive/My Drive/CS 280/vgg+softmax final.h5\n",
            "18/17 [==============================] - 38s 2s/step - loss: 0.4567 - acc: 0.8365 - val_loss: 0.4764 - val_acc: 0.8095\n",
            "Epoch 11/100\n",
            "18/17 [==============================] - ETA: 0s - loss: 0.4018 - acc: 0.8556\n",
            "Epoch 00011: val_acc did not improve from 0.80952\n",
            "18/17 [==============================] - 38s 2s/step - loss: 0.4018 - acc: 0.8556 - val_loss: 0.5590 - val_acc: 0.7897\n",
            "Epoch 12/100\n",
            "18/17 [==============================] - ETA: 0s - loss: 0.3777 - acc: 0.8639\n",
            "Epoch 00012: val_acc improved from 0.80952 to 0.82540, saving model to /content/drive/My Drive/CS 280/vgg+softmax final.h5\n",
            "18/17 [==============================] - 38s 2s/step - loss: 0.3777 - acc: 0.8639 - val_loss: 0.4418 - val_acc: 0.8254\n",
            "Epoch 13/100\n",
            "18/17 [==============================] - ETA: 0s - loss: 0.3105 - acc: 0.8945\n",
            "Epoch 00013: val_acc did not improve from 0.82540\n",
            "18/17 [==============================] - 37s 2s/step - loss: 0.3105 - acc: 0.8945 - val_loss: 0.6184 - val_acc: 0.7976\n",
            "Epoch 14/100\n",
            "18/17 [==============================] - ETA: 0s - loss: 0.2731 - acc: 0.9049\n",
            "Epoch 00014: val_acc improved from 0.82540 to 0.82937, saving model to /content/drive/My Drive/CS 280/vgg+softmax final.h5\n",
            "18/17 [==============================] - 38s 2s/step - loss: 0.2731 - acc: 0.9049 - val_loss: 0.5880 - val_acc: 0.8294\n",
            "Epoch 15/100\n",
            "18/17 [==============================] - ETA: 0s - loss: 0.2784 - acc: 0.8988\n",
            "Epoch 00015: val_acc did not improve from 0.82937\n",
            "18/17 [==============================] - 37s 2s/step - loss: 0.2784 - acc: 0.8988 - val_loss: 0.6998 - val_acc: 0.7460\n",
            "Epoch 16/100\n",
            "18/17 [==============================] - ETA: 0s - loss: 0.2366 - acc: 0.9171\n",
            "Epoch 00016: val_acc did not improve from 0.82937\n",
            "18/17 [==============================] - 37s 2s/step - loss: 0.2366 - acc: 0.9171 - val_loss: 0.5464 - val_acc: 0.8095\n",
            "Epoch 17/100\n",
            "18/17 [==============================] - ETA: 0s - loss: 0.2299 - acc: 0.9215\n",
            "Epoch 00017: val_acc improved from 0.82937 to 0.83333, saving model to /content/drive/My Drive/CS 280/vgg+softmax final.h5\n",
            "18/17 [==============================] - 38s 2s/step - loss: 0.2299 - acc: 0.9215 - val_loss: 0.4896 - val_acc: 0.8333\n",
            "Epoch 18/100\n",
            "18/17 [==============================] - ETA: 0s - loss: 0.2319 - acc: 0.9246\n",
            "Epoch 00018: val_acc did not improve from 0.83333\n",
            "18/17 [==============================] - 37s 2s/step - loss: 0.2319 - acc: 0.9246 - val_loss: 0.7210 - val_acc: 0.7937\n",
            "Epoch 19/100\n",
            "18/17 [==============================] - ETA: 0s - loss: 0.1696 - acc: 0.9442\n",
            "Epoch 00019: val_acc did not improve from 0.83333\n",
            "18/17 [==============================] - 38s 2s/step - loss: 0.1696 - acc: 0.9442 - val_loss: 0.5780 - val_acc: 0.8333\n",
            "Epoch 20/100\n",
            "18/17 [==============================] - ETA: 0s - loss: 0.1652 - acc: 0.9442\n",
            "Epoch 00020: val_acc did not improve from 0.83333\n",
            "18/17 [==============================] - 37s 2s/step - loss: 0.1652 - acc: 0.9442 - val_loss: 1.3882 - val_acc: 0.7222\n",
            "Epoch 21/100\n",
            "18/17 [==============================] - ETA: 0s - loss: 0.1937 - acc: 0.9420\n",
            "Epoch 00021: val_acc improved from 0.83333 to 0.84524, saving model to /content/drive/My Drive/CS 280/vgg+softmax final.h5\n",
            "18/17 [==============================] - 38s 2s/step - loss: 0.1937 - acc: 0.9420 - val_loss: 0.5944 - val_acc: 0.8452\n",
            "Epoch 22/100\n",
            "18/17 [==============================] - ETA: 0s - loss: 0.1429 - acc: 0.9529\n",
            "Epoch 00022: val_acc did not improve from 0.84524\n",
            "18/17 [==============================] - 37s 2s/step - loss: 0.1429 - acc: 0.9529 - val_loss: 0.6501 - val_acc: 0.8413\n",
            "Epoch 23/100\n",
            "18/17 [==============================] - ETA: 0s - loss: 0.1475 - acc: 0.9520\n",
            "Epoch 00023: val_acc improved from 0.84524 to 0.86508, saving model to /content/drive/My Drive/CS 280/vgg+softmax final.h5\n",
            "18/17 [==============================] - 38s 2s/step - loss: 0.1475 - acc: 0.9520 - val_loss: 0.5098 - val_acc: 0.8651\n",
            "Epoch 24/100\n",
            "18/17 [==============================] - ETA: 0s - loss: 0.1801 - acc: 0.9416\n",
            "Epoch 00024: val_acc did not improve from 0.86508\n",
            "18/17 [==============================] - 37s 2s/step - loss: 0.1801 - acc: 0.9416 - val_loss: 0.4017 - val_acc: 0.8532\n",
            "Epoch 25/100\n",
            "18/17 [==============================] - ETA: 0s - loss: 0.1366 - acc: 0.9594\n",
            "Epoch 00025: val_acc did not improve from 0.86508\n",
            "18/17 [==============================] - 37s 2s/step - loss: 0.1366 - acc: 0.9594 - val_loss: 0.5085 - val_acc: 0.8492\n",
            "Epoch 26/100\n",
            "18/17 [==============================] - ETA: 0s - loss: 0.1251 - acc: 0.9612\n",
            "Epoch 00026: val_acc did not improve from 0.86508\n",
            "18/17 [==============================] - 36s 2s/step - loss: 0.1251 - acc: 0.9612 - val_loss: 0.4444 - val_acc: 0.8611\n",
            "Epoch 27/100\n",
            "18/17 [==============================] - ETA: 0s - loss: 0.0907 - acc: 0.9655\n",
            "Epoch 00027: val_acc did not improve from 0.86508\n",
            "18/17 [==============================] - 37s 2s/step - loss: 0.0907 - acc: 0.9655 - val_loss: 1.2430 - val_acc: 0.7063\n",
            "Epoch 28/100\n",
            "18/17 [==============================] - ETA: 0s - loss: 0.1363 - acc: 0.9616\n",
            "Epoch 00028: val_acc did not improve from 0.86508\n",
            "18/17 [==============================] - 37s 2s/step - loss: 0.1363 - acc: 0.9616 - val_loss: 0.7581 - val_acc: 0.7698\n",
            "Epoch 29/100\n",
            "18/17 [==============================] - ETA: 0s - loss: 0.0667 - acc: 0.9791\n",
            "Epoch 00029: val_acc did not improve from 0.86508\n",
            "18/17 [==============================] - 36s 2s/step - loss: 0.0667 - acc: 0.9791 - val_loss: 0.9544 - val_acc: 0.8214\n",
            "Epoch 30/100\n",
            "18/17 [==============================] - ETA: 0s - loss: 0.1183 - acc: 0.9642\n",
            "Epoch 00030: val_acc did not improve from 0.86508\n",
            "18/17 [==============================] - 37s 2s/step - loss: 0.1183 - acc: 0.9642 - val_loss: 0.5520 - val_acc: 0.8373\n",
            "Epoch 31/100\n",
            "18/17 [==============================] - ETA: 0s - loss: 0.0945 - acc: 0.9725\n",
            "Epoch 00031: val_acc did not improve from 0.86508\n",
            "18/17 [==============================] - 37s 2s/step - loss: 0.0945 - acc: 0.9725 - val_loss: 0.7303 - val_acc: 0.8294\n",
            "Epoch 32/100\n",
            "18/17 [==============================] - ETA: 0s - loss: 0.0590 - acc: 0.9830\n",
            "Epoch 00032: val_acc improved from 0.86508 to 0.86905, saving model to /content/drive/My Drive/CS 280/vgg+softmax final.h5\n",
            "18/17 [==============================] - 38s 2s/step - loss: 0.0590 - acc: 0.9830 - val_loss: 0.5499 - val_acc: 0.8690\n",
            "Epoch 33/100\n",
            "18/17 [==============================] - ETA: 0s - loss: 0.1438 - acc: 0.9512\n",
            "Epoch 00033: val_acc did not improve from 0.86905\n",
            "18/17 [==============================] - 37s 2s/step - loss: 0.1438 - acc: 0.9512 - val_loss: 0.5142 - val_acc: 0.8492\n",
            "Epoch 34/100\n",
            "18/17 [==============================] - ETA: 0s - loss: 0.0382 - acc: 0.9878\n",
            "Epoch 00034: val_acc did not improve from 0.86905\n",
            "18/17 [==============================] - 37s 2s/step - loss: 0.0382 - acc: 0.9878 - val_loss: 0.7058 - val_acc: 0.8492\n",
            "Epoch 35/100\n",
            "18/17 [==============================] - ETA: 0s - loss: 0.0945 - acc: 0.9712\n",
            "Epoch 00035: val_acc did not improve from 0.86905\n",
            "18/17 [==============================] - 37s 2s/step - loss: 0.0945 - acc: 0.9712 - val_loss: 0.6908 - val_acc: 0.8373\n",
            "Epoch 36/100\n",
            "18/17 [==============================] - ETA: 0s - loss: 0.1368 - acc: 0.9634\n",
            "Epoch 00036: val_acc did not improve from 0.86905\n",
            "18/17 [==============================] - 37s 2s/step - loss: 0.1368 - acc: 0.9634 - val_loss: 0.5431 - val_acc: 0.8690\n",
            "Epoch 37/100\n",
            "18/17 [==============================] - ETA: 0s - loss: 0.0547 - acc: 0.9865\n",
            "Epoch 00037: val_acc did not improve from 0.86905\n",
            "18/17 [==============================] - 37s 2s/step - loss: 0.0547 - acc: 0.9865 - val_loss: 0.7054 - val_acc: 0.8333\n",
            "Epoch 38/100\n",
            "18/17 [==============================] - ETA: 0s - loss: 0.1630 - acc: 0.9625\n",
            "Epoch 00038: val_acc did not improve from 0.86905\n",
            "18/17 [==============================] - 37s 2s/step - loss: 0.1630 - acc: 0.9625 - val_loss: 0.7271 - val_acc: 0.8254\n",
            "Epoch 39/100\n",
            "18/17 [==============================] - ETA: 0s - loss: 0.0298 - acc: 0.9895\n",
            "Epoch 00039: val_acc did not improve from 0.86905\n",
            "18/17 [==============================] - 37s 2s/step - loss: 0.0298 - acc: 0.9895 - val_loss: 0.6014 - val_acc: 0.8571\n",
            "Epoch 40/100\n",
            "18/17 [==============================] - ETA: 0s - loss: 0.1311 - acc: 0.9660\n",
            "Epoch 00040: val_acc did not improve from 0.86905\n",
            "18/17 [==============================] - 37s 2s/step - loss: 0.1311 - acc: 0.9660 - val_loss: 0.7928 - val_acc: 0.8413\n",
            "Epoch 41/100\n",
            "18/17 [==============================] - ETA: 0s - loss: 0.0483 - acc: 0.9860\n",
            "Epoch 00041: val_acc did not improve from 0.86905\n",
            "18/17 [==============================] - 37s 2s/step - loss: 0.0483 - acc: 0.9860 - val_loss: 0.7881 - val_acc: 0.8373\n",
            "Epoch 42/100\n",
            "18/17 [==============================] - ETA: 0s - loss: 0.0701 - acc: 0.9773\n",
            "Epoch 00042: val_acc did not improve from 0.86905\n",
            "18/17 [==============================] - 37s 2s/step - loss: 0.0701 - acc: 0.9773 - val_loss: 0.6497 - val_acc: 0.8492\n",
            "Epoch 43/100\n",
            "18/17 [==============================] - ETA: 0s - loss: 0.0372 - acc: 0.9878\n",
            "Epoch 00043: val_acc did not improve from 0.86905\n",
            "18/17 [==============================] - 37s 2s/step - loss: 0.0372 - acc: 0.9878 - val_loss: 0.9618 - val_acc: 0.8452\n",
            "Epoch 44/100\n",
            "18/17 [==============================] - ETA: 0s - loss: 0.1233 - acc: 0.9669\n",
            "Epoch 00044: val_acc did not improve from 0.86905\n",
            "18/17 [==============================] - 36s 2s/step - loss: 0.1233 - acc: 0.9669 - val_loss: 0.6048 - val_acc: 0.8571\n",
            "Epoch 45/100\n",
            "18/17 [==============================] - ETA: 0s - loss: 0.0724 - acc: 0.9778\n",
            "Epoch 00045: val_acc did not improve from 0.86905\n",
            "18/17 [==============================] - 36s 2s/step - loss: 0.0724 - acc: 0.9778 - val_loss: 0.7733 - val_acc: 0.8452\n",
            "Epoch 46/100\n",
            "18/17 [==============================] - ETA: 0s - loss: 0.0808 - acc: 0.9817\n",
            "Epoch 00046: val_acc improved from 0.86905 to 0.87698, saving model to /content/drive/My Drive/CS 280/vgg+softmax final.h5\n",
            "18/17 [==============================] - 38s 2s/step - loss: 0.0808 - acc: 0.9817 - val_loss: 0.6701 - val_acc: 0.8770\n",
            "Epoch 47/100\n",
            "18/17 [==============================] - ETA: 0s - loss: 0.0500 - acc: 0.9812\n",
            "Epoch 00047: val_acc did not improve from 0.87698\n",
            "18/17 [==============================] - 37s 2s/step - loss: 0.0500 - acc: 0.9812 - val_loss: 0.8084 - val_acc: 0.8016\n",
            "Epoch 48/100\n",
            "18/17 [==============================] - ETA: 0s - loss: 0.1042 - acc: 0.9734\n",
            "Epoch 00048: val_acc did not improve from 0.87698\n",
            "18/17 [==============================] - 37s 2s/step - loss: 0.1042 - acc: 0.9734 - val_loss: 0.5836 - val_acc: 0.8175\n",
            "Epoch 49/100\n",
            "18/17 [==============================] - ETA: 0s - loss: 0.0440 - acc: 0.9891\n",
            "Epoch 00049: val_acc did not improve from 0.87698\n",
            "18/17 [==============================] - 36s 2s/step - loss: 0.0440 - acc: 0.9891 - val_loss: 0.8844 - val_acc: 0.8056\n",
            "Epoch 50/100\n",
            "18/17 [==============================] - ETA: 0s - loss: 0.0723 - acc: 0.9786\n",
            "Epoch 00050: val_acc did not improve from 0.87698\n",
            "18/17 [==============================] - 37s 2s/step - loss: 0.0723 - acc: 0.9786 - val_loss: 0.7140 - val_acc: 0.8373\n",
            "Epoch 51/100\n",
            "18/17 [==============================] - ETA: 0s - loss: 0.0229 - acc: 0.9939\n",
            "Epoch 00051: val_acc did not improve from 0.87698\n",
            "18/17 [==============================] - 37s 2s/step - loss: 0.0229 - acc: 0.9939 - val_loss: 0.6224 - val_acc: 0.8690\n",
            "Epoch 52/100\n",
            "18/17 [==============================] - ETA: 0s - loss: 0.0560 - acc: 0.9874\n",
            "Epoch 00052: val_acc did not improve from 0.87698\n",
            "18/17 [==============================] - 36s 2s/step - loss: 0.0560 - acc: 0.9874 - val_loss: 0.9413 - val_acc: 0.7738\n",
            "Epoch 53/100\n",
            "18/17 [==============================] - ETA: 0s - loss: 0.0890 - acc: 0.9717\n",
            "Epoch 00053: val_acc did not improve from 0.87698\n",
            "18/17 [==============================] - 36s 2s/step - loss: 0.0890 - acc: 0.9717 - val_loss: 0.7156 - val_acc: 0.8373\n",
            "Epoch 54/100\n",
            "18/17 [==============================] - ETA: 0s - loss: 0.0347 - acc: 0.9900\n",
            "Epoch 00054: val_acc did not improve from 0.87698\n",
            "18/17 [==============================] - 36s 2s/step - loss: 0.0347 - acc: 0.9900 - val_loss: 0.7548 - val_acc: 0.8452\n",
            "Epoch 55/100\n",
            "18/17 [==============================] - ETA: 0s - loss: 0.0831 - acc: 0.9778\n",
            "Epoch 00055: val_acc did not improve from 0.87698\n",
            "18/17 [==============================] - 37s 2s/step - loss: 0.0831 - acc: 0.9778 - val_loss: 0.6179 - val_acc: 0.8690\n",
            "Epoch 56/100\n",
            "18/17 [==============================] - ETA: 0s - loss: 0.0199 - acc: 0.9948\n",
            "Epoch 00056: val_acc did not improve from 0.87698\n",
            "18/17 [==============================] - 36s 2s/step - loss: 0.0199 - acc: 0.9948 - val_loss: 0.7015 - val_acc: 0.8571\n",
            "Epoch 57/100\n",
            "18/17 [==============================] - ETA: 0s - loss: 0.0891 - acc: 0.9817\n",
            "Epoch 00057: val_acc did not improve from 0.87698\n",
            "18/17 [==============================] - 36s 2s/step - loss: 0.0891 - acc: 0.9817 - val_loss: 0.6978 - val_acc: 0.8294\n",
            "Epoch 58/100\n",
            "18/17 [==============================] - ETA: 0s - loss: 0.0309 - acc: 0.9908\n",
            "Epoch 00058: val_acc did not improve from 0.87698\n",
            "18/17 [==============================] - 37s 2s/step - loss: 0.0309 - acc: 0.9908 - val_loss: 0.9374 - val_acc: 0.8254\n",
            "Epoch 59/100\n",
            "18/17 [==============================] - ETA: 0s - loss: 0.0398 - acc: 0.9878\n",
            "Epoch 00059: val_acc did not improve from 0.87698\n",
            "18/17 [==============================] - 36s 2s/step - loss: 0.0398 - acc: 0.9878 - val_loss: 0.8795 - val_acc: 0.8611\n",
            "Epoch 60/100\n",
            "18/17 [==============================] - ETA: 0s - loss: 0.0572 - acc: 0.9865\n",
            "Epoch 00060: val_acc improved from 0.87698 to 0.88492, saving model to /content/drive/My Drive/CS 280/vgg+softmax final.h5\n",
            "18/17 [==============================] - 39s 2s/step - loss: 0.0572 - acc: 0.9865 - val_loss: 0.4775 - val_acc: 0.8849\n",
            "Epoch 61/100\n",
            "18/17 [==============================] - ETA: 0s - loss: 0.0753 - acc: 0.9782\n",
            "Epoch 00061: val_acc did not improve from 0.88492\n",
            "18/17 [==============================] - 37s 2s/step - loss: 0.0753 - acc: 0.9782 - val_loss: 0.7112 - val_acc: 0.8532\n",
            "Epoch 62/100\n",
            "18/17 [==============================] - ETA: 0s - loss: 0.0277 - acc: 0.9917\n",
            "Epoch 00062: val_acc did not improve from 0.88492\n",
            "18/17 [==============================] - 36s 2s/step - loss: 0.0277 - acc: 0.9917 - val_loss: 0.9195 - val_acc: 0.8294\n",
            "Epoch 63/100\n",
            "18/17 [==============================] - ETA: 0s - loss: 0.0198 - acc: 0.9930\n",
            "Epoch 00063: val_acc did not improve from 0.88492\n",
            "18/17 [==============================] - 36s 2s/step - loss: 0.0198 - acc: 0.9930 - val_loss: 2.1971 - val_acc: 0.7103\n",
            "Epoch 64/100\n",
            "18/17 [==============================] - ETA: 0s - loss: 0.0705 - acc: 0.9786\n",
            "Epoch 00064: val_acc did not improve from 0.88492\n",
            "18/17 [==============================] - 36s 2s/step - loss: 0.0705 - acc: 0.9786 - val_loss: 0.9342 - val_acc: 0.8333\n",
            "Epoch 65/100\n",
            "18/17 [==============================] - ETA: 0s - loss: 0.0244 - acc: 0.9887\n",
            "Epoch 00065: val_acc did not improve from 0.88492\n",
            "18/17 [==============================] - 36s 2s/step - loss: 0.0244 - acc: 0.9887 - val_loss: 0.8418 - val_acc: 0.8690\n",
            "Epoch 66/100\n",
            "18/17 [==============================] - ETA: 0s - loss: 0.0731 - acc: 0.9808\n",
            "Epoch 00066: val_acc did not improve from 0.88492\n",
            "18/17 [==============================] - 36s 2s/step - loss: 0.0731 - acc: 0.9808 - val_loss: 0.7214 - val_acc: 0.8333\n",
            "Epoch 67/100\n",
            "18/17 [==============================] - ETA: 0s - loss: 0.0372 - acc: 0.9887\n",
            "Epoch 00067: val_acc did not improve from 0.88492\n",
            "18/17 [==============================] - 37s 2s/step - loss: 0.0372 - acc: 0.9887 - val_loss: 1.0474 - val_acc: 0.8373\n",
            "Epoch 68/100\n",
            "18/17 [==============================] - ETA: 0s - loss: 0.0275 - acc: 0.9926\n",
            "Epoch 00068: val_acc did not improve from 0.88492\n",
            "18/17 [==============================] - 36s 2s/step - loss: 0.0275 - acc: 0.9926 - val_loss: 1.2604 - val_acc: 0.8333\n",
            "Epoch 69/100\n",
            "18/17 [==============================] - ETA: 0s - loss: 0.0598 - acc: 0.9817\n",
            "Epoch 00069: val_acc did not improve from 0.88492\n",
            "18/17 [==============================] - 36s 2s/step - loss: 0.0598 - acc: 0.9817 - val_loss: 2.0784 - val_acc: 0.7698\n",
            "Epoch 70/100\n",
            "18/17 [==============================] - ETA: 0s - loss: 0.0638 - acc: 0.9821\n",
            "Epoch 00070: val_acc did not improve from 0.88492\n",
            "18/17 [==============================] - 36s 2s/step - loss: 0.0638 - acc: 0.9821 - val_loss: 0.9560 - val_acc: 0.8373\n",
            "Epoch 71/100\n",
            "18/17 [==============================] - ETA: 0s - loss: 0.0399 - acc: 0.9913\n",
            "Epoch 00071: val_acc did not improve from 0.88492\n",
            "18/17 [==============================] - 36s 2s/step - loss: 0.0399 - acc: 0.9913 - val_loss: 0.8368 - val_acc: 0.8452\n",
            "Epoch 72/100\n",
            "18/17 [==============================] - ETA: 0s - loss: 0.0246 - acc: 0.9939\n",
            "Epoch 00072: val_acc did not improve from 0.88492\n",
            "18/17 [==============================] - 36s 2s/step - loss: 0.0246 - acc: 0.9939 - val_loss: 1.4482 - val_acc: 0.7897\n",
            "Epoch 73/100\n",
            "18/17 [==============================] - ETA: 0s - loss: 0.2135 - acc: 0.9647\n",
            "Epoch 00073: val_acc did not improve from 0.88492\n",
            "18/17 [==============================] - 36s 2s/step - loss: 0.2135 - acc: 0.9647 - val_loss: 0.6828 - val_acc: 0.8333\n",
            "Epoch 74/100\n",
            "18/17 [==============================] - ETA: 0s - loss: 0.0298 - acc: 0.9913\n",
            "Epoch 00074: val_acc did not improve from 0.88492\n",
            "18/17 [==============================] - 36s 2s/step - loss: 0.0298 - acc: 0.9913 - val_loss: 0.8739 - val_acc: 0.8532\n",
            "Epoch 75/100\n",
            "18/17 [==============================] - ETA: 0s - loss: 0.0184 - acc: 0.9952\n",
            "Epoch 00075: val_acc did not improve from 0.88492\n",
            "18/17 [==============================] - 36s 2s/step - loss: 0.0184 - acc: 0.9952 - val_loss: 0.9402 - val_acc: 0.8690\n",
            "Epoch 76/100\n",
            "18/17 [==============================] - ETA: 0s - loss: 0.0557 - acc: 0.9878\n",
            "Epoch 00076: val_acc did not improve from 0.88492\n",
            "18/17 [==============================] - 37s 2s/step - loss: 0.0557 - acc: 0.9878 - val_loss: 0.9692 - val_acc: 0.8214\n",
            "Epoch 77/100\n",
            "18/17 [==============================] - ETA: 0s - loss: 0.0544 - acc: 0.9852\n",
            "Epoch 00077: val_acc did not improve from 0.88492\n",
            "18/17 [==============================] - 36s 2s/step - loss: 0.0544 - acc: 0.9852 - val_loss: 1.1178 - val_acc: 0.8413\n",
            "Epoch 78/100\n",
            "18/17 [==============================] - ETA: 0s - loss: 0.0537 - acc: 0.9860\n",
            "Epoch 00078: val_acc did not improve from 0.88492\n",
            "18/17 [==============================] - 36s 2s/step - loss: 0.0537 - acc: 0.9860 - val_loss: 1.0600 - val_acc: 0.8254\n",
            "Epoch 79/100\n",
            "18/17 [==============================] - ETA: 0s - loss: 0.0526 - acc: 0.9869\n",
            "Epoch 00079: val_acc did not improve from 0.88492\n",
            "18/17 [==============================] - 36s 2s/step - loss: 0.0526 - acc: 0.9869 - val_loss: 0.7375 - val_acc: 0.8611\n",
            "Epoch 80/100\n",
            "18/17 [==============================] - ETA: 0s - loss: 0.0233 - acc: 0.9948\n",
            "Epoch 00080: val_acc did not improve from 0.88492\n",
            "18/17 [==============================] - 36s 2s/step - loss: 0.0233 - acc: 0.9948 - val_loss: 0.8981 - val_acc: 0.8611\n",
            "Epoch 81/100\n",
            "18/17 [==============================] - ETA: 0s - loss: 0.0308 - acc: 0.9908\n",
            "Epoch 00081: val_acc did not improve from 0.88492\n",
            "18/17 [==============================] - 36s 2s/step - loss: 0.0308 - acc: 0.9908 - val_loss: 1.0909 - val_acc: 0.8135\n",
            "Epoch 82/100\n",
            "18/17 [==============================] - ETA: 0s - loss: 0.0656 - acc: 0.9804\n",
            "Epoch 00082: val_acc did not improve from 0.88492\n",
            "18/17 [==============================] - 36s 2s/step - loss: 0.0656 - acc: 0.9804 - val_loss: 0.9141 - val_acc: 0.8571\n",
            "Epoch 83/100\n",
            "18/17 [==============================] - ETA: 0s - loss: 0.0250 - acc: 0.9930\n",
            "Epoch 00083: val_acc did not improve from 0.88492\n",
            "18/17 [==============================] - 36s 2s/step - loss: 0.0250 - acc: 0.9930 - val_loss: 1.4324 - val_acc: 0.8373\n",
            "Epoch 84/100\n",
            "18/17 [==============================] - ETA: 0s - loss: 0.0720 - acc: 0.9843\n",
            "Epoch 00084: val_acc did not improve from 0.88492\n",
            "18/17 [==============================] - 36s 2s/step - loss: 0.0720 - acc: 0.9843 - val_loss: 0.7936 - val_acc: 0.8373\n",
            "Epoch 85/100\n",
            "18/17 [==============================] - ETA: 0s - loss: 0.0209 - acc: 0.9952\n",
            "Epoch 00085: val_acc did not improve from 0.88492\n",
            "18/17 [==============================] - 35s 2s/step - loss: 0.0209 - acc: 0.9952 - val_loss: 1.4835 - val_acc: 0.8056\n",
            "Epoch 86/100\n",
            "18/17 [==============================] - ETA: 0s - loss: 0.0635 - acc: 0.9821\n",
            "Epoch 00086: val_acc did not improve from 0.88492\n",
            "18/17 [==============================] - 35s 2s/step - loss: 0.0635 - acc: 0.9821 - val_loss: 1.7300 - val_acc: 0.8095\n",
            "Epoch 87/100\n",
            "18/17 [==============================] - ETA: 0s - loss: 0.0363 - acc: 0.9900\n",
            "Epoch 00087: val_acc did not improve from 0.88492\n",
            "18/17 [==============================] - 35s 2s/step - loss: 0.0363 - acc: 0.9900 - val_loss: 1.1156 - val_acc: 0.8532\n",
            "Epoch 88/100\n",
            "18/17 [==============================] - ETA: 0s - loss: 0.0024 - acc: 1.0000\n",
            "Epoch 00088: val_acc did not improve from 0.88492\n",
            "18/17 [==============================] - 35s 2s/step - loss: 0.0024 - acc: 1.0000 - val_loss: 1.4514 - val_acc: 0.8532\n",
            "Epoch 89/100\n",
            "18/17 [==============================] - ETA: 0s - loss: 0.0746 - acc: 0.9808\n",
            "Epoch 00089: val_acc did not improve from 0.88492\n",
            "18/17 [==============================] - 35s 2s/step - loss: 0.0746 - acc: 0.9808 - val_loss: 1.4744 - val_acc: 0.8373\n",
            "Epoch 90/100\n",
            "18/17 [==============================] - ETA: 0s - loss: 0.0210 - acc: 0.9952\n",
            "Epoch 00090: val_acc did not improve from 0.88492\n",
            "18/17 [==============================] - 35s 2s/step - loss: 0.0210 - acc: 0.9952 - val_loss: 1.0729 - val_acc: 0.8571\n",
            "Epoch 91/100\n",
            "18/17 [==============================] - ETA: 0s - loss: 0.0650 - acc: 0.9856\n",
            "Epoch 00091: val_acc did not improve from 0.88492\n",
            "18/17 [==============================] - 36s 2s/step - loss: 0.0650 - acc: 0.9856 - val_loss: 0.8871 - val_acc: 0.8175\n",
            "Epoch 92/100\n",
            "18/17 [==============================] - ETA: 0s - loss: 0.0859 - acc: 0.9791\n",
            "Epoch 00092: val_acc did not improve from 0.88492\n",
            "18/17 [==============================] - 35s 2s/step - loss: 0.0859 - acc: 0.9791 - val_loss: 0.7801 - val_acc: 0.8571\n",
            "Epoch 93/100\n",
            "18/17 [==============================] - ETA: 0s - loss: 0.0238 - acc: 0.9956\n",
            "Epoch 00093: val_acc did not improve from 0.88492\n",
            "18/17 [==============================] - 36s 2s/step - loss: 0.0238 - acc: 0.9956 - val_loss: 1.7777 - val_acc: 0.8135\n",
            "Epoch 94/100\n",
            "18/17 [==============================] - ETA: 0s - loss: 0.0448 - acc: 0.9878\n",
            "Epoch 00094: val_acc did not improve from 0.88492\n",
            "18/17 [==============================] - 35s 2s/step - loss: 0.0448 - acc: 0.9878 - val_loss: 0.7657 - val_acc: 0.8571\n",
            "Epoch 95/100\n",
            "18/17 [==============================] - ETA: 0s - loss: 0.1150 - acc: 0.9690\n",
            "Epoch 00095: val_acc did not improve from 0.88492\n",
            "18/17 [==============================] - 35s 2s/step - loss: 0.1150 - acc: 0.9690 - val_loss: 0.9238 - val_acc: 0.8095\n",
            "Epoch 96/100\n",
            "18/17 [==============================] - ETA: 0s - loss: 0.0167 - acc: 0.9952\n",
            "Epoch 00096: val_acc did not improve from 0.88492\n",
            "18/17 [==============================] - 35s 2s/step - loss: 0.0167 - acc: 0.9952 - val_loss: 0.9379 - val_acc: 0.8611\n",
            "Epoch 97/100\n",
            "18/17 [==============================] - ETA: 0s - loss: 0.0120 - acc: 0.9965\n",
            "Epoch 00097: val_acc did not improve from 0.88492\n",
            "18/17 [==============================] - 35s 2s/step - loss: 0.0120 - acc: 0.9965 - val_loss: 4.3310 - val_acc: 0.6508\n",
            "Epoch 98/100\n",
            "18/17 [==============================] - ETA: 0s - loss: 0.0994 - acc: 0.9804\n",
            "Epoch 00098: val_acc did not improve from 0.88492\n",
            "18/17 [==============================] - 35s 2s/step - loss: 0.0994 - acc: 0.9804 - val_loss: 1.2752 - val_acc: 0.8294\n",
            "Epoch 99/100\n",
            "18/17 [==============================] - ETA: 0s - loss: 0.0319 - acc: 0.9926\n",
            "Epoch 00099: val_acc did not improve from 0.88492\n",
            "18/17 [==============================] - 35s 2s/step - loss: 0.0319 - acc: 0.9926 - val_loss: 1.1753 - val_acc: 0.8294\n",
            "Epoch 100/100\n",
            "18/17 [==============================] - ETA: 0s - loss: 0.0606 - acc: 0.9808\n",
            "Epoch 00100: val_acc did not improve from 0.88492\n",
            "18/17 [==============================] - 35s 2s/step - loss: 0.0606 - acc: 0.9808 - val_loss: 0.9148 - val_acc: 0.8413\n"
          ],
          "name": "stdout"
        }
      ]
    },
    {
      "cell_type": "code",
      "metadata": {
        "id": "48cnsS_Z8VVB",
        "colab_type": "code",
        "colab": {}
      },
      "source": [
        "model.save('/content/drive/My Drive/CS 280/vgg+softmax last.h5')"
      ],
      "execution_count": 0,
      "outputs": []
    },
    {
      "cell_type": "code",
      "metadata": {
        "id": "XWieXiFWuX6d",
        "colab_type": "code",
        "colab": {}
      },
      "source": [
        "np.save('/content/drive/My Drive/CS 280/VGG+softmax history.npy', history.history) "
      ],
      "execution_count": 0,
      "outputs": []
    },
    {
      "cell_type": "code",
      "metadata": {
        "id": "g4tk2ho3udhg",
        "colab_type": "code",
        "colab": {}
      },
      "source": [
        "read_dictionary = np.load('/content/drive/My Drive/CS 280/VGG+softmax history.npy',allow_pickle='TRUE').item()"
      ],
      "execution_count": 0,
      "outputs": []
    },
    {
      "cell_type": "code",
      "metadata": {
        "id": "mbtfQCvMAo_i",
        "colab_type": "code",
        "outputId": "4f751a20-12c4-4f9b-bc96-20acb789e68b",
        "colab": {
          "base_uri": "https://localhost:8080/",
          "height": 590
        }
      },
      "source": [
        "print(history.history.keys())\n",
        "# summarize history for accuracy\n",
        "plt.plot(history.history['acc'])\n",
        "plt.plot(history.history['val_acc'])\n",
        "plt.title('VGG16+Softmax model accuracy')\n",
        "plt.ylabel('accuracy')\n",
        "plt.xlabel('epoch')\n",
        "plt.legend(['train', 'test'], loc='upper left')\n",
        "plt.show()\n",
        "# summarize history for loss\n",
        "plt.plot(history.history['loss'])\n",
        "plt.plot(history.history['val_loss'])\n",
        "plt.title('VGG16+Softmax model loss')\n",
        "plt.ylabel('loss')\n",
        "plt.xlabel('epoch')\n",
        "plt.legend(['train', 'test'], loc='upper left')\n",
        "plt.show()"
      ],
      "execution_count": 0,
      "outputs": [
        {
          "output_type": "stream",
          "text": [
            "dict_keys(['loss', 'acc', 'val_loss', 'val_acc'])\n"
          ],
          "name": "stdout"
        },
        {
          "output_type": "display_data",
          "data": {
            "image/png": "[encoded data removed]",
            "text/plain": [
              "<Figure size 432x288 with 1 Axes>"
            ]
          },
          "metadata": {
            "tags": [],
            "needs_background": "light"
          }
        },
        {
          "output_type": "display_data",
          "data": {
            "image/png": "[encoded data removed]",
            "text/plain": [
              "<Figure size 432x288 with 1 Axes>"
            ]
          },
          "metadata": {
            "tags": [],
            "needs_background": "light"
          }
        }
      ]
    },
    {
      "cell_type": "code",
      "metadata": {
        "id": "TqCIpKl_9ffK",
        "colab_type": "code",
        "outputId": "5624c8ee-7aa0-49fc-f203-366f466434a5",
        "colab": {
          "base_uri": "https://localhost:8080/",
          "height": 85
        }
      },
      "source": [
        "model.evaluate_generator(generator=val_generator,steps=val_generator.samples/val_generator.batch_size)"
      ],
      "execution_count": 0,
      "outputs": [
        {
          "output_type": "stream",
          "text": [
            "WARNING:tensorflow:From <ipython-input-25-8b48b1c2df5d>:1: Model.evaluate_generator (from tensorflow.python.keras.engine.training) is deprecated and will be removed in a future version.\n",
            "Instructions for updating:\n",
            "Please use Model.evaluate, which supports generators.\n"
          ],
          "name": "stdout"
        },
        {
          "output_type": "execute_result",
          "data": {
            "text/plain": [
              "[1.3618574142456055, 0.8333333134651184]"
            ]
          },
          "metadata": {
            "tags": []
          },
          "execution_count": 25
        }
      ]
    },
    {
      "cell_type": "code",
      "metadata": {
        "id": "mFkksUcMtnOc",
        "colab_type": "code",
        "colab": {}
      },
      "source": [
        "from tensorflow.keras.models import load_model\n",
        "\n",
        "best_model = load_model('/content/drive/My Drive/CS 280/vgg+softmax final.h5')"
      ],
      "execution_count": 0,
      "outputs": []
    },
    {
      "cell_type": "code",
      "metadata": {
        "id": "EQB2xle8u2t0",
        "colab_type": "code",
        "outputId": "be009bb2-8133-4693-e768-f6a1250e344c",
        "colab": {
          "base_uri": "https://localhost:8080/",
          "height": 34
        }
      },
      "source": [
        "best_model.evaluate_generator(generator=val_generator,steps=val_generator.samples/val_generator.batch_size)"
      ],
      "execution_count": 0,
      "outputs": [
        {
          "output_type": "execute_result",
          "data": {
            "text/plain": [
              "[0.5225390791893005, 0.8492063283920288]"
            ]
          },
          "metadata": {
            "tags": []
          },
          "execution_count": 28
        }
      ]
    }
  ]
}